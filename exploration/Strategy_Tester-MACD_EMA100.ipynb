{
 "cells": [
  {
   "cell_type": "code",
   "execution_count": 1,
   "id": "d45bb3a8",
   "metadata": {},
   "outputs": [],
   "source": [
    "import sys\n",
    "sys.path.append(\"../\")"
   ]
  },
  {
   "cell_type": "code",
   "execution_count": 2,
   "id": "2276616b",
   "metadata": {},
   "outputs": [],
   "source": [
    "import pandas as pd\n",
    "import datetime as dt\n",
    "from technicals.indicators import moving_average_convergence_divergence\n",
    "from simulation.strategy_tester import StrategyTester"
   ]
  },
  {
   "cell_type": "code",
   "execution_count": 3,
   "id": "a0d4271d",
   "metadata": {},
   "outputs": [],
   "source": [
    "BUY = 1\n",
    "SELL = -1\n",
    "NONE = 0\n",
    "\n",
    "def apply_signal(row):\n",
    "    if row.direction == BUY and row.mid_l > row.EMA_100:\n",
    "        return BUY\n",
    "    if row.direction == SELL and row.mid_h < row.EMA_100:\n",
    "        return SELL\n",
    "    return NONE   "
   ]
  },
  {
   "cell_type": "code",
   "execution_count": 4,
   "id": "e21844f7",
   "metadata": {},
   "outputs": [],
   "source": [
    "pair = \"EUR_USD\"\n",
    "df_an = pd.read_pickle(f\"../data/forex/{pair}_H1.pkl\")\n",
    "df_m5 = pd.read_pickle(f\"../data/forex/{pair}_M5.pkl\")\n",
    "df_an.reset_index(drop=True, inplace=True)\n",
    "df_m5.reset_index(drop=True, inplace=True)"
   ]
  },
  {
   "cell_type": "code",
   "execution_count": 5,
   "id": "0f946e97",
   "metadata": {},
   "outputs": [],
   "source": [
    "df_an = moving_average_convergence_divergence(df_an)\n",
    "df_an['EMA_100'] = df_an.mid_c.ewm(span=100, min_periods=100).mean()\n",
    "df_an.dropna(inplace=True)\n",
    "df_an.reset_index(drop=True, inplace=True)"
   ]
  },
  {
   "cell_type": "code",
   "execution_count": 6,
   "id": "593eed26",
   "metadata": {},
   "outputs": [
    {
     "data": {
      "text/html": [
       "<div>\n",
       "<style scoped>\n",
       "    .dataframe tbody tr th:only-of-type {\n",
       "        vertical-align: middle;\n",
       "    }\n",
       "\n",
       "    .dataframe tbody tr th {\n",
       "        vertical-align: top;\n",
       "    }\n",
       "\n",
       "    .dataframe thead th {\n",
       "        text-align: right;\n",
       "    }\n",
       "</style>\n",
       "<table border=\"1\" class=\"dataframe\">\n",
       "  <thead>\n",
       "    <tr style=\"text-align: right;\">\n",
       "      <th></th>\n",
       "      <th>time</th>\n",
       "      <th>volume</th>\n",
       "      <th>mid_o</th>\n",
       "      <th>mid_h</th>\n",
       "      <th>mid_l</th>\n",
       "      <th>mid_c</th>\n",
       "      <th>bid_o</th>\n",
       "      <th>bid_h</th>\n",
       "      <th>bid_l</th>\n",
       "      <th>bid_c</th>\n",
       "      <th>ask_o</th>\n",
       "      <th>ask_h</th>\n",
       "      <th>ask_l</th>\n",
       "      <th>ask_c</th>\n",
       "      <th>moving_average_convergence_divergence</th>\n",
       "      <th>signal</th>\n",
       "      <th>histogram</th>\n",
       "      <th>EMA_100</th>\n",
       "    </tr>\n",
       "  </thead>\n",
       "  <tbody>\n",
       "    <tr>\n",
       "      <th>0</th>\n",
       "      <td>2010-01-07 20:00:00+00:00</td>\n",
       "      <td>1650</td>\n",
       "      <td>1.43270</td>\n",
       "      <td>1.43270</td>\n",
       "      <td>1.43074</td>\n",
       "      <td>1.43228</td>\n",
       "      <td>1.43265</td>\n",
       "      <td>1.43265</td>\n",
       "      <td>1.43069</td>\n",
       "      <td>1.43223</td>\n",
       "      <td>1.43274</td>\n",
       "      <td>1.43274</td>\n",
       "      <td>1.43078</td>\n",
       "      <td>1.43232</td>\n",
       "      <td>-0.001815</td>\n",
       "      <td>-0.001521</td>\n",
       "      <td>-0.000294</td>\n",
       "      <td>1.437059</td>\n",
       "    </tr>\n",
       "    <tr>\n",
       "      <th>1</th>\n",
       "      <td>2010-01-07 21:00:00+00:00</td>\n",
       "      <td>792</td>\n",
       "      <td>1.43230</td>\n",
       "      <td>1.43236</td>\n",
       "      <td>1.43079</td>\n",
       "      <td>1.43079</td>\n",
       "      <td>1.43225</td>\n",
       "      <td>1.43232</td>\n",
       "      <td>1.43069</td>\n",
       "      <td>1.43069</td>\n",
       "      <td>1.43234</td>\n",
       "      <td>1.43244</td>\n",
       "      <td>1.43089</td>\n",
       "      <td>1.43089</td>\n",
       "      <td>-0.001878</td>\n",
       "      <td>-0.001592</td>\n",
       "      <td>-0.000285</td>\n",
       "      <td>1.436916</td>\n",
       "    </tr>\n",
       "    <tr>\n",
       "      <th>2</th>\n",
       "      <td>2010-01-07 22:00:00+00:00</td>\n",
       "      <td>878</td>\n",
       "      <td>1.43089</td>\n",
       "      <td>1.43150</td>\n",
       "      <td>1.43046</td>\n",
       "      <td>1.43054</td>\n",
       "      <td>1.43079</td>\n",
       "      <td>1.43141</td>\n",
       "      <td>1.43037</td>\n",
       "      <td>1.43045</td>\n",
       "      <td>1.43099</td>\n",
       "      <td>1.43159</td>\n",
       "      <td>1.43055</td>\n",
       "      <td>1.43063</td>\n",
       "      <td>-0.001925</td>\n",
       "      <td>-0.001659</td>\n",
       "      <td>-0.000266</td>\n",
       "      <td>1.436771</td>\n",
       "    </tr>\n",
       "    <tr>\n",
       "      <th>3</th>\n",
       "      <td>2010-01-07 23:00:00+00:00</td>\n",
       "      <td>511</td>\n",
       "      <td>1.43057</td>\n",
       "      <td>1.43182</td>\n",
       "      <td>1.43050</td>\n",
       "      <td>1.43175</td>\n",
       "      <td>1.43048</td>\n",
       "      <td>1.43175</td>\n",
       "      <td>1.43042</td>\n",
       "      <td>1.43168</td>\n",
       "      <td>1.43066</td>\n",
       "      <td>1.43189</td>\n",
       "      <td>1.43057</td>\n",
       "      <td>1.43182</td>\n",
       "      <td>-0.001844</td>\n",
       "      <td>-0.001696</td>\n",
       "      <td>-0.000148</td>\n",
       "      <td>1.436657</td>\n",
       "    </tr>\n",
       "    <tr>\n",
       "      <th>4</th>\n",
       "      <td>2010-01-08 00:00:00+00:00</td>\n",
       "      <td>1337</td>\n",
       "      <td>1.43178</td>\n",
       "      <td>1.43273</td>\n",
       "      <td>1.43025</td>\n",
       "      <td>1.43171</td>\n",
       "      <td>1.43171</td>\n",
       "      <td>1.43266</td>\n",
       "      <td>1.43018</td>\n",
       "      <td>1.43164</td>\n",
       "      <td>1.43185</td>\n",
       "      <td>1.43280</td>\n",
       "      <td>1.43032</td>\n",
       "      <td>1.43178</td>\n",
       "      <td>-0.001763</td>\n",
       "      <td>-0.001709</td>\n",
       "      <td>-0.000053</td>\n",
       "      <td>1.436545</td>\n",
       "    </tr>\n",
       "  </tbody>\n",
       "</table>\n",
       "</div>"
      ],
      "text/plain": [
       "                       time  volume    mid_o    mid_h    mid_l    mid_c  \\\n",
       "0 2010-01-07 20:00:00+00:00    1650  1.43270  1.43270  1.43074  1.43228   \n",
       "1 2010-01-07 21:00:00+00:00     792  1.43230  1.43236  1.43079  1.43079   \n",
       "2 2010-01-07 22:00:00+00:00     878  1.43089  1.43150  1.43046  1.43054   \n",
       "3 2010-01-07 23:00:00+00:00     511  1.43057  1.43182  1.43050  1.43175   \n",
       "4 2010-01-08 00:00:00+00:00    1337  1.43178  1.43273  1.43025  1.43171   \n",
       "\n",
       "     bid_o    bid_h    bid_l    bid_c    ask_o    ask_h    ask_l    ask_c  \\\n",
       "0  1.43265  1.43265  1.43069  1.43223  1.43274  1.43274  1.43078  1.43232   \n",
       "1  1.43225  1.43232  1.43069  1.43069  1.43234  1.43244  1.43089  1.43089   \n",
       "2  1.43079  1.43141  1.43037  1.43045  1.43099  1.43159  1.43055  1.43063   \n",
       "3  1.43048  1.43175  1.43042  1.43168  1.43066  1.43189  1.43057  1.43182   \n",
       "4  1.43171  1.43266  1.43018  1.43164  1.43185  1.43280  1.43032  1.43178   \n",
       "\n",
       "   moving_average_convergence_divergence    signal  histogram   EMA_100  \n",
       "0                              -0.001815 -0.001521  -0.000294  1.437059  \n",
       "1                              -0.001878 -0.001592  -0.000285  1.436916  \n",
       "2                              -0.001925 -0.001659  -0.000266  1.436771  \n",
       "3                              -0.001844 -0.001696  -0.000148  1.436657  \n",
       "4                              -0.001763 -0.001709  -0.000053  1.436545  "
      ]
     },
     "execution_count": 6,
     "metadata": {},
     "output_type": "execute_result"
    }
   ],
   "source": [
    "df_an.head()"
   ]
  },
  {
   "cell_type": "code",
   "execution_count": 7,
   "id": "4b1ccce4",
   "metadata": {},
   "outputs": [],
   "source": [
    "def apply_cross(row):\n",
    "    if row.MACD_DELTA > 0 and row.MACD_DELTA_PREV < 0:\n",
    "        return BUY\n",
    "    if row.MACD_DELTA < 0 and row.MACD_DELTA_PREV > 0:\n",
    "        return SELL\n",
    "    return NONE"
   ]
  },
  {
   "cell_type": "code",
   "execution_count": 10,
   "id": "3b16f2c6",
   "metadata": {},
   "outputs": [],
   "source": [
    "df_an['MACD_DELTA'] = df_an.moving_average_convergence_divergence - df_an.signal\n",
    "df_an['MACD_DELTA_PREV'] = df_an.MACD_DELTA.shift(1)\n",
    "df_an['direction'] = df_an.apply(apply_cross, axis=1)"
   ]
  },
  {
   "cell_type": "code",
   "execution_count": 13,
   "id": "5b53cf2f",
   "metadata": {},
   "outputs": [
    {
     "data": {
      "text/plain": [
       " 0    70208\n",
       " 1     2938\n",
       "-1     2937\n",
       "Name: direction, dtype: int64"
      ]
     },
     "execution_count": 13,
     "metadata": {},
     "output_type": "execute_result"
    }
   ],
   "source": [
    "df_an.direction.value_counts()"
   ]
  },
  {
   "cell_type": "code",
   "execution_count": null,
   "id": "5e4002bd",
   "metadata": {
    "scrolled": true
   },
   "outputs": [],
   "source": []
  },
  {
   "cell_type": "code",
   "execution_count": 4,
   "id": "314355c3",
   "metadata": {},
   "outputs": [],
   "source": [
    "def run_pair(pair):\n",
    "    df_an = pd.read_pickle(f\"../data/forex/{pair}_H1.pkl\")\n",
    "    df_m5 = pd.read_pickle(f\"../data/forex/{pair}_M5.pkl\")\n",
    "    df_an.reset_index(drop=True, inplace=True)\n",
    "    df_m5.reset_index(drop=True, inplace=True)\n",
    "    df_an = moving_average_convergence_divergence(df_an)\n",
    "\n",
    "    df_an['EMA_100'] = df_an.mid_c.ewm(span=100, min_periods=100).mean()\n",
    "    our_cols = ['time', 'mid_o', 'mid_h', 'mid_l', 'mid_c',\n",
    "            'bid_o', 'bid_h', 'bid_l', 'bid_c', \n",
    "            'ask_o', 'ask_h', 'ask_l', 'ask_c',\n",
    "            'ENGULFING', 'direction', 'EMA_200', 'relative_strength_index_14' ]\n",
    "    df_slim = df_an[our_cols].copy()\n",
    "    df_slim.dropna(inplace=True)\n",
    "    \n",
    "    df_slim.reset_index(drop=True, inplace=True)\n",
    "    gt = StrategyTester(\n",
    "        df_slim,\n",
    "        apply_signal,\n",
    "        df_m5,\n",
    "        use_spread=True\n",
    "    )\n",
    "    \n",
    "    gt.run_test()\n",
    "    return gt.df_results\n",
    "    "
   ]
  },
  {
   "cell_type": "code",
   "execution_count": 5,
   "id": "36fab442",
   "metadata": {},
   "outputs": [
    {
     "name": "stdout",
     "output_type": "stream",
     "text": [
      "prepare_data...\n",
      "run_test...\n",
      "Result: -4523.5\n",
      "prepare_data...\n",
      "run_test...\n",
      "Result: -1828.0\n",
      "prepare_data...\n",
      "run_test...\n",
      "Result: -2326.5\n",
      "prepare_data...\n",
      "run_test...\n",
      "Result: -2652.5\n"
     ]
    }
   ],
   "source": [
    "res = []\n",
    "for p in [\"AUD_NZD\", \"EUR_USD\", \"GBP_JPY\", \"USD_CAD\" ]:\n",
    "    res.append(dict(pair=p,res=run_pair(p)))"
   ]
  },
  {
   "cell_type": "code",
   "execution_count": 6,
   "id": "d9b1f5f0",
   "metadata": {},
   "outputs": [
    {
     "name": "stdout",
     "output_type": "stream",
     "text": [
      "AUD_NZD -4523.5\n",
      "EUR_USD -1828.0\n",
      "GBP_JPY -2326.5\n",
      "USD_CAD -2652.5\n"
     ]
    }
   ],
   "source": [
    "for r in res:\n",
    "    print(r['pair'], r['res'].result.sum())"
   ]
  },
  {
   "cell_type": "code",
   "execution_count": null,
   "id": "b3aae0b2",
   "metadata": {},
   "outputs": [],
   "source": []
  },
  {
   "cell_type": "code",
   "execution_count": null,
   "id": "990d4bde",
   "metadata": {},
   "outputs": [],
   "source": []
  },
  {
   "cell_type": "code",
   "execution_count": null,
   "id": "3f968cf3",
   "metadata": {},
   "outputs": [],
   "source": []
  }
 ],
 "metadata": {
  "kernelspec": {
   "display_name": "Python 3 (ipykernel)",
   "language": "python",
   "name": "python3"
  },
  "language_info": {
   "codemirror_mode": {
    "name": "ipython",
    "version": 3
   },
   "file_extension": ".py",
   "mimetype": "text/x-python",
   "name": "python",
   "nbconvert_exporter": "python",
   "pygments_lexer": "ipython3",
   "version": "3.11.1"
  }
 },
 "nbformat": 4,
 "nbformat_minor": 5
}
